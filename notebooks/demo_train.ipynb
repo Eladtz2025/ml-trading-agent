{
  "cells": [
    {
      "cell_type": "markdown",
      "metadata": {},
      "source": [
        "# Demo Training Notebook",
        "\n",
        "This notebook demonstrates a minimal training flow for the baseline models."
      ]
    },
    {
      "cell_type": "code",
      "execution_count": null,
      "metadata": {},
      "outputs": [],
      "source": [
        "import pandas as pd\n",
        "from models.baseline import run_baseline\n",
        "\n",
        "data = pd.DataFrame({\"feature\": [0, 1, 2, 3, 4]})\n",
        "labels = pd.Series([0, 0, 1, 1, 1])\n",
        "result = run_baseline(data, labels, n_splits=2)\n",
        "result.mean"
      ]
    }
  ],
  "metadata": {
    "kernelspec": {
      "display_name": "Python 3",
      "language": "python",
      "name": "python3"
    },
    "language_info": {
      "name": "python",
      "version": "3.11"
    }
  },
  "nbformat": 4,
  "nbformat_minor": 5
}