{
  "cells": [
    {
      "cell_type": "markdown",
      "metadata": {},
      "source": ["# Demo Training Notebook\nTrain and evaluate basic XGBoost model"]
    },
    {
      "cell_type": "code",
      "execution_count": null,
      "metadata": {},
      "outputs": [],
      "source": ["import pandas as pd\nfrom models.xgb_optuna import train_optuna\nfrom labeling.triple_barrier import apply_triple_barrier\n\ndf = pd.read_parquet('data/sample.parquet')\ndf['label'] = apply_triple_barrier(df['close'])\nX = df[['macd', 'atr']]
y = df['label']\nmodel = train_optuna(X, y)"]
    }
  ],
  "metadata": {},
  "nbformat": 4,
  "nbform_minor": 2
}